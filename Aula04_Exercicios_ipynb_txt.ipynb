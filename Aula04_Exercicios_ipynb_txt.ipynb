{
  "nbformat": 4,
  "nbformat_minor": 0,
  "metadata": {
    "colab": {
      "name": "Aula04_Exercicios.ipynb.txt",
      "provenance": [],
      "collapsed_sections": [],
      "include_colab_link": true
    },
    "kernelspec": {
      "name": "python3",
      "display_name": "Python 3"
    },
    "language_info": {
      "name": "python"
    }
  },
  "cells": [
    {
      "cell_type": "markdown",
      "metadata": {
        "id": "view-in-github",
        "colab_type": "text"
      },
      "source": [
        "<a href=\"https://colab.research.google.com/github/Fabricio1984/BlueTurma2B/blob/main/Aula04_Exercicios_ipynb_txt.ipynb\" target=\"_parent\"><img src=\"https://colab.research.google.com/assets/colab-badge.svg\" alt=\"Open In Colab\"/></a>"
      ]
    },
    {
      "cell_type": "markdown",
      "metadata": {
        "id": "DptQTkwqN7v9"
      },
      "source": [
        "# Exercícios de Aquecimento\n",
        "\n",
        "## Exercício 01\n",
        "Elabore um programa que imprima na tela a seguinte frase `Olá Mundo! Esse é o meu primeiro programa`"
      ]
    },
    {
      "cell_type": "code",
      "metadata": {
        "id": "fu-Hvxg7OT64",
        "colab": {
          "base_uri": "https://localhost:8080/"
        },
        "outputId": "3e082f0f-0260-4f2c-c627-2d08d2d261b4"
      },
      "source": [
        "print('Olá Mundo! Esse é meu primeiro programa')"
      ],
      "execution_count": null,
      "outputs": [
        {
          "output_type": "stream",
          "text": [
            "Olá Mundo! Esse é meu primeiro programa\n"
          ],
          "name": "stdout"
        }
      ]
    },
    {
      "cell_type": "markdown",
      "metadata": {
        "id": "HYnPLbl2OfuE"
      },
      "source": [
        "## Exercício 02\n",
        "Elabore um programa que escreve seu nome completo na primeira linha, seu endereço na segunda e o CEP e telefone na terceira.  \n",
        "\n",
        "**Exemplo:**\n",
        "```\n",
        "Nome: Bruno Fabri\n",
        "Endereço: Rua ABC\n",
        "CEP: 002220-010\n",
        "```"
      ]
    },
    {
      "cell_type": "code",
      "metadata": {
        "id": "sUrmuOzbO5Cd",
        "colab": {
          "base_uri": "https://localhost:8080/"
        },
        "outputId": "5fe403bd-49fc-404c-b6ee-6b4bc6e2f81c"
      },
      "source": [
        "print('Nome: Fabricio \\n Endereço: Rua ABC \\n cep: 000999-000 \\n Telefone: (81) 9999-9999  ')\n"
      ],
      "execution_count": null,
      "outputs": [
        {
          "output_type": "stream",
          "text": [
            "Nome: Fabricio \n",
            " Endereço: Rua ABC \n",
            " cep: 000999-000 \n",
            " Telefone: (81) 9999-9999  \n"
          ],
          "name": "stdout"
        }
      ]
    },
    {
      "cell_type": "markdown",
      "metadata": {
        "id": "5XVY0cvwP1WX"
      },
      "source": [
        "## Exercício 03\n",
        "Elabore um programa que recebe o nome de uma pessoa do terminal e mostra a seguinte mensagem: `Olá {nome}! Seja bem vindo ao fantástico mundo da programação`"
      ]
    },
    {
      "cell_type": "code",
      "metadata": {
        "id": "VDfwe6OSQM0M",
        "colab": {
          "base_uri": "https://localhost:8080/"
        },
        "outputId": "c019af1b-c8bc-4e3a-af0f-6ebc58ea4c27"
      },
      "source": [
        "nome = input('')\n",
        "print('olá {} ! Seja bem vindo!' .format(nome))\n",
        "print(f'ola {nome} ! Seja bem vindo')"
      ],
      "execution_count": null,
      "outputs": [
        {
          "output_type": "stream",
          "text": [
            "fabricio\n",
            "olá fabricio ! Seja bem vindo!\n",
            "olafabricio ! Seja bem vindo\n"
          ],
          "name": "stdout"
        }
      ]
    },
    {
      "cell_type": "markdown",
      "metadata": {
        "id": "1Nb29agVQc3k"
      },
      "source": [
        "## Exercício 04\n",
        "Elabore um programa que recebe dois valores inteiros e mostra a soma desses valores\n",
        "\n",
        "**Exemplo:**\n",
        "\n",
        "```\n",
        "Primeiro Valor = 2\n",
        "Segundo Valor = 3\n",
        "Soma = 5\n",
        "```"
      ]
    },
    {
      "cell_type": "code",
      "metadata": {
        "id": "a6_BwVwRROmH",
        "colab": {
          "base_uri": "https://localhost:8080/"
        },
        "outputId": "b740bd9a-4d5e-4786-e5e0-4c96652b7e88"
      },
      "source": [
        "n1 = int(input('digite um valor:'))\n",
        "n2 = int(input('digite outro valor:'))\n",
        "soma = n1 + n2\n",
        "print('valor é ',soma)"
      ],
      "execution_count": null,
      "outputs": [
        {
          "output_type": "stream",
          "text": [
            "digite um valor:5\n",
            "digite outro valor:6\n",
            "valor é  11\n"
          ],
          "name": "stdout"
        }
      ]
    },
    {
      "cell_type": "markdown",
      "metadata": {
        "id": "4HQxR3FTTbSr"
      },
      "source": [
        "## Exercício 05\n",
        "Elabore um programa que recebe dois valores inteiros e mostra se o primeiro valor é maior ou igual ao segundo valor\n",
        "\n",
        "**Exemplo:**\n",
        "```\n",
        "Primeiro Valor = 3\n",
        "Segundo Valor = 2\n",
        "Resultado = True\n",
        "```"
      ]
    },
    {
      "cell_type": "code",
      "metadata": {
        "id": "OXISQASdTeSW",
        "colab": {
          "base_uri": "https://localhost:8080/"
        },
        "outputId": "55c92f59-0084-4a39-83ed-97067dce5135"
      },
      "source": [
        "n1 = int(input('digite umnumero:'))\n",
        "n2 = int(input('digite outro numero:'))\n",
        "n3 = n1 >= n2\n",
        "print(n3)"
      ],
      "execution_count": null,
      "outputs": [
        {
          "output_type": "stream",
          "text": [
            "digite umnumero:5\n",
            "digite outro numero:2\n",
            "True\n"
          ],
          "name": "stdout"
        }
      ]
    },
    {
      "cell_type": "markdown",
      "metadata": {
        "id": "Gn8rHPn3UCnc"
      },
      "source": [
        "## Exercício 06\n",
        "Elabore um programa que recebe o seu nome, endereço e hobby e mostra cada uma das informações da seguinte forma:\n",
        "- Nome -> Letra maiúscula\n",
        "- Endereço -> Letra minúscula\n",
        "- Hobby -> Primeira letra maiúscula\n",
        "\n",
        "**Exemplo Entrada:**\n",
        "```\n",
        "Nome: bruno fabri\n",
        "Endereço: Rua ABC\n",
        "Hobby: jogar cs\n",
        "```\n",
        "\n",
        "**Exemplo Saída:**\n",
        "```\n",
        "Nome: BRUNO FABRI\n",
        "Endereço: rua abc\n",
        "Hobby: Jogar cs\n",
        "```"
      ]
    },
    {
      "cell_type": "code",
      "metadata": {
        "id": "ZIj-PGVZVVP6",
        "colab": {
          "base_uri": "https://localhost:8080/"
        },
        "outputId": "a743c40d-153a-4dd9-eed0-71ed75bc86b1"
      },
      "source": [
        "nome = input('digite seu nome')\n",
        "end = input('digite seu endereco')\n",
        "hobby = input('digite seu hobby')\n",
        "print(nome.upper())\n",
        "print(nome.lower())\n",
        "print(nome.title())\n",
        "########\n",
        "nome = input('digite seu nome')\n",
        "end = input('digite seu endereco')\n",
        "hobby = input('digite seu hobby')\n",
        "\n"
      ],
      "execution_count": null,
      "outputs": [
        {
          "output_type": "stream",
          "text": [
            "digite seu nomefabricio\n",
            "digite seu enderecoabc\n",
            "digite seu hobbydef\n",
            "FABRICIO\n",
            "fabricio\n",
            "Fabricio\n"
          ],
          "name": "stdout"
        }
      ]
    },
    {
      "cell_type": "markdown",
      "metadata": {
        "id": "wlvmEAPQNrcL"
      },
      "source": [
        "# Mini Projetos"
      ]
    },
    {
      "cell_type": "markdown",
      "metadata": {
        "id": "W8zwueNBKh4B"
      },
      "source": [
        "## Mini Projeto 01 - Conversor de Moeda\n",
        "Vamos construir um programa que irá converter moedas do real para o dólar e do dólar para o real. Vamos considerar que `$ 1,00 = R$ 5,75`\n",
        "\n",
        "### Parte 1\n",
        "Faça o conversor de moeda receber o valor em real e mostrar o valor convertido para dólar no formato `$ XXXX.XX`\n",
        "\n",
        "**Exemplo:**\n",
        "\n",
        "```\n",
        "Valor em R$ = 1000\n",
        "Valor em $ = $ 173.91\n",
        "```\n",
        "\n",
        "### Parte 2\n",
        "Altere o conversor de moedas para receber o valor em dólar, converter para real e mostrar o resultado no formato `R$ XXXX.XX`\n",
        "\n",
        "**Exemplo:**\n",
        "```\n",
        "Valor em $ = 1000\n",
        "Valor em R$ = R$ 5750.00\n",
        "```"
      ]
    },
    {
      "cell_type": "code",
      "metadata": {
        "id": "mRQ9fpIgMp5Z",
        "colab": {
          "base_uri": "https://localhost:8080/"
        },
        "outputId": "bcc9dccd-e48a-402c-de09-c0682b1b0674"
      },
      "source": [
        "reais = float(input('valor em reais'))\n",
        "dolar = 5.75\n",
        "conversao = dolar / reais\n",
        "print('o seu valor em dolar é {:.2f}'.format(conversao))\n",
        "#### parte 2\n",
        "reais2 = float(input('valor em real R$'))\n",
        "dolar2 = 5.75 \n",
        "conversao2 = dolar2 / reais2\n",
        "print('valor em dolar {:.2f}'.format(conversao2))\n"
      ],
      "execution_count": null,
      "outputs": [
        {
          "output_type": "stream",
          "text": [
            "valor em reais10\n",
            "o seu valor em dolar é 0.57\n",
            "valor em real R$5\n",
            "valor em dolar 1.15\n"
          ],
          "name": "stdout"
        }
      ]
    },
    {
      "cell_type": "markdown",
      "metadata": {
        "id": "0NmAiF2DV_ju"
      },
      "source": [
        "## Mini Projeto 02 - Calculadora de aumento de aluguel\n",
        "Vamos construir um programa que irá calcular o aumento anual do seu aluguel em duas partes:\n",
        "\n",
        "### Parte 1\n",
        "A sua calculadora vai receber o `valor do aluguel` e calcular o aumento baseado no `IGPM de 31%`. A calculadora deve apresentar o aluguel reajustado no formato `R$ XXXX.XX`\n",
        "\n",
        "**Exemplo:**\n",
        "```\n",
        "Valor do aluguel = 1000\n",
        "Valor do aluguel reajustado = R$ 1310,00\n",
        "```\n",
        "\n",
        "### Parte 2\n",
        "Agora, altere sua calculadora para receber além do `valor do aluguel`, o percentual do reajuste no formato `XX%`.  \n",
        "\n",
        "**Dica:** Descubra uma forma de transformar o percentual recebido em um número para efetuar o cálculo.\n",
        "\n",
        "**Exemplo:**\n",
        "```\n",
        "Valor do aluguel = 1000\n",
        "Percentual do reajuste = 31%\n",
        "Valor do aluguel reajustado = R% 1310,00\n",
        "```"
      ]
    },
    {
      "cell_type": "code",
      "metadata": {
        "id": "0eHzSCyaGkYJ",
        "colab": {
          "base_uri": "https://localhost:8080/"
        },
        "outputId": "fc41bf83-8ac8-4e3e-8cf0-bc916bcd81d2"
      },
      "source": [
        "valor_aluguel = float(input('qual e o valor do aluguel'))\n",
        "percentual_reajuste = valor_aluguel + (valor_aluguel * 0.31)\n",
        "print('o valor do aluguel atualizado e {}'.format(percentual_reajuste))\n",
        "### parte 2 \n",
        "\n"
      ],
      "execution_count": null,
      "outputs": [
        {
          "output_type": "stream",
          "text": [
            "qual e o valor do aluguel1000\n",
            "o valor do aluguel atualizado e 1310.0\n"
          ],
          "name": "stdout"
        }
      ]
    },
    {
      "cell_type": "code",
      "metadata": {
        "colab": {
          "base_uri": "https://localhost:8080/"
        },
        "id": "Z_ynEsfOogMz",
        "outputId": "f3bfa668-8637-454a-a101-837828cdf189"
      },
      "source": [
        "#parte 2\n",
        "valor_aluguel = float(input('valor do aluguel: '))\n",
        "percentual_reajuste = input('percentual do reajuste: ')\n",
        "percentual_reajuste_decimal = (float(percentual_reajuste.replace('%', ''))/ 100 +1)\n",
        "valor_aluguel_reajustado = valor_aluguel * percentual_reajuste_decimal\n",
        "print('R$ {:.2f}'.format(valor_aluguel_reajustado))"
      ],
      "execution_count": null,
      "outputs": [
        {
          "output_type": "stream",
          "text": [
            "valor do aluguel: 1000\n",
            "percentual do reajuste: 31%\n",
            "R$ 1310.00\n"
          ],
          "name": "stdout"
        }
      ]
    },
    {
      "cell_type": "code",
      "metadata": {
        "id": "QaX9cZ_VKm2G"
      },
      "source": [
        ""
      ],
      "execution_count": null,
      "outputs": []
    },
    {
      "cell_type": "markdown",
      "metadata": {
        "id": "xN88sUuMOG46"
      },
      "source": [
        "## Mini Projeto 03 - Calculadora de dano\n",
        "Vamos implementar a calculadora de dano de RPG!!\n",
        "\n",
        "### Parte 1\n",
        "O programa vai receber a `vida e um monstro (entre 10 e 50)` e o `valor do ataque do jogador por turno (entre 5 e 10)`\n",
        "\n",
        "Baseado nos valores, exiba a quantidade de turnos que o jogador irá demorar para conseguir derrotar o monstro.\n",
        "\n",
        "**Exemplo:**\n",
        "```\n",
        "Vida de um monstro (entre 10 e 50): 26\n",
        "Valor do ataque do jogador por turno (entre 5 e 10): 5\n",
        "Resultado: O jogador irá precisar de 6 turnos para derrotar o monstro.\n",
        "```\n",
        "\n",
        "### Parte 2\n",
        "Altere o programa para ao invés de receber a vida do monstro, gerar aleatoriamente um valor entre 10 e 50."
      ]
    },
    {
      "cell_type": "code",
      "metadata": {
        "id": "Mrpz9UomQH2P",
        "colab": {
          "base_uri": "https://localhost:8080/"
        },
        "outputId": "e476efc7-02f9-4dff-8d7b-c52bfb8e062e"
      },
      "source": [
        "import math\n",
        "\n",
        "monstro = int(input(\"Vida de um monstro (entre 10 e 50): \"))\n",
        "ataque_jogador = int(input(\"Valor do ataque do jogador por turno (entre 5 e 10): \"))\n",
        "\n",
        "turnos_necessarios = math.ceil(monstro / ataque_jogador)\n",
        "\n",
        "print(\"O jogador irá precisar de {} turnos para derrotar o monstro.\".format(turnos_necessarios))"
      ],
      "execution_count": null,
      "outputs": [
        {
          "output_type": "stream",
          "text": [
            "Vida de um monstro (entre 10 e 50): 30\n",
            "Valor do ataque do jogador por turno (entre 5 e 10): 8\n",
            "O jogador irá precisar de 4 turnos para derrotar o monstro.\n"
          ],
          "name": "stdout"
        }
      ]
    },
    {
      "cell_type": "code",
      "metadata": {
        "id": "5L6gbWNRr-Oh",
        "colab": {
          "base_uri": "https://localhost:8080/"
        },
        "outputId": "8124a26f-312c-4b4d-c7e0-ed2929e41234"
      },
      "source": [
        "########Parte 2################\n",
        "import math\n",
        "import random\n",
        "monstro = random.randint(10, 50)\n",
        "ataque_jogador = int(input(\"Valor do ataque do jogador por turno (entre 5 e 10): \"))\n",
        "\n",
        "turnos_necessarios = math.ceil(vida_monstro / ataque_jogador)\n",
        "\n",
        "print(\"Vida do monstro: {}\".format(monstro))\n",
        "print(\"O jogador irá precisar de {} turnos para derrotar o monstro.\".format(turnos_necessarios))"
      ],
      "execution_count": 15,
      "outputs": [
        {
          "output_type": "stream",
          "text": [
            "Valor do ataque do jogador por turno (entre 5 e 10): 8\n",
            "Vida do monstro: 21\n",
            "O jogador irá precisar de 6 turnos para derrotar o monstro.\n"
          ],
          "name": "stdout"
        }
      ]
    },
    {
      "cell_type": "code",
      "metadata": {
        "id": "aFeqdeoHKo86"
      },
      "source": [
        "# Condicional\n",
        "vara = float(input('Digite num1: '))\n",
        "varb = float(input('Digite num2: '))\n",
        "\n",
        "if vara > varb:\n",
        "  print('A é maior que B')\n",
        "  elif: var < varb:\n",
        "    print('B é maior que A')\n",
        "    else:\n",
        "      print('São iguais')\n"
      ],
      "execution_count": null,
      "outputs": []
    },
    {
      "cell_type": "code",
      "metadata": {
        "colab": {
          "base_uri": "https://localhost:8080/"
        },
        "id": "D-lw6r2kRxzt",
        "outputId": "a3f33b9c-817e-4537-8f1f-e6a68337fa08"
      },
      "source": [
        "nome = input('digite seu nome')\n",
        "if nome.upper == 'FILIPE':\n",
        "  print('voce e o felipe')\n",
        "else:\n",
        "    print('voce nao felipe ')\n",
        "  \n",
        "\n",
        "    \n",
        "\n"
      ],
      "execution_count": null,
      "outputs": [
        {
          "output_type": "stream",
          "text": [
            "digite seu nomefelipe\n",
            "voce nao felipe \n"
          ],
          "name": "stdout"
        }
      ]
    },
    {
      "cell_type": "code",
      "metadata": {
        "id": "uL8wS_YldQ_9"
      },
      "source": [
        "sdsdsmnnnbb"
      ],
      "execution_count": null,
      "outputs": []
    },
    {
      "cell_type": "code",
      "metadata": {
        "id": "oQXItD4xdRC-"
      },
      "source": [
        ""
      ],
      "execution_count": null,
      "outputs": []
    }
  ]
}