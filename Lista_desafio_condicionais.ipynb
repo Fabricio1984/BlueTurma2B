{
  "nbformat": 4,
  "nbformat_minor": 0,
  "metadata": {
    "colab": {
      "name": "Lista_desafio_condicionais.ipynb",
      "provenance": [],
      "collapsed_sections": [],
      "authorship_tag": "ABX9TyNWgaiPQBvtB35/uYRd5/2q",
      "include_colab_link": true
    },
    "kernelspec": {
      "name": "python3",
      "display_name": "Python 3"
    },
    "language_info": {
      "name": "python"
    }
  },
  "cells": [
    {
      "cell_type": "markdown",
      "metadata": {
        "id": "view-in-github",
        "colab_type": "text"
      },
      "source": [
        "<a href=\"https://colab.research.google.com/github/Fabricio1984/BlueTurma2B/blob/main/Lista_desafio_condicionais.ipynb\" target=\"_parent\"><img src=\"https://colab.research.google.com/assets/colab-badge.svg\" alt=\"Open In Colab\"/></a>"
      ]
    },
    {
      "cell_type": "code",
      "metadata": {
        "id": "Gkty-FX3qVqc",
        "colab": {
          "base_uri": "https://localhost:8080/"
        },
        "outputId": "32e343bf-8511-4310-cdcb-0eac2cfd9ac2"
      },
      "source": [
        "###Exercício 1: \"Faça um Programa que leia três números inteiros, em seguida mostre o maior e o menor deles.\"\n",
        "primeiro = int(input('Primeiro numero: '))\n",
        "segundo  = int(input('Segundo numero : '))\n",
        "terceiro = int(input('Terceiro numero: '))\n",
        "\n",
        "########Achando o maior número########\n",
        "maior = primeiro\n",
        "\n",
        "if segundo > maior:\n",
        "  maior = segundo\n",
        "if terceiro > maior:\n",
        "  maior = terceiro\n",
        "\n",
        "print('Maior: ',maior)\n",
        "\n",
        "\n",
        "############Achando o menor número ###########\n",
        "menor = primeiro\n",
        "\n",
        "if segundo < menor:\n",
        "  menor = segundo\n",
        "if terceiro < menor:\n",
        "  menor = terceiro\n",
        "\n",
        "print('Menor: ',menor)"
      ],
      "execution_count": 2,
      "outputs": [
        {
          "output_type": "stream",
          "text": [
            "Primeiro numero: 6\n",
            "Segundo numero : 8\n",
            "Terceiro numero: 9\n",
            "Maior:  9\n",
            "Menor:  6\n"
          ],
          "name": "stdout"
        }
      ]
    },
    {
      "cell_type": "code",
      "metadata": {
        "id": "8pgi5tSM0IgY"
      },
      "source": [
        ""
      ],
      "execution_count": null,
      "outputs": []
    }
  ]
}