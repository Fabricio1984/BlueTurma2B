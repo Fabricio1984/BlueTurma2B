{
  "nbformat": 4,
  "nbformat_minor": 0,
  "metadata": {
    "colab": {
      "name": "Lista_desafio_condicionais.ipynb",
      "provenance": [],
      "collapsed_sections": [],
      "authorship_tag": "ABX9TyMiX4fA0H/9ajVOmSOU99qC",
      "include_colab_link": true
    },
    "kernelspec": {
      "name": "python3",
      "display_name": "Python 3"
    },
    "language_info": {
      "name": "python"
    }
  },
  "cells": [
    {
      "cell_type": "markdown",
      "metadata": {
        "id": "view-in-github",
        "colab_type": "text"
      },
      "source": [
        "<a href=\"https://colab.research.google.com/github/Fabricio1984/BlueTurma2B/blob/main/Lista_desafio_condicionais.ipynb\" target=\"_parent\"><img src=\"https://colab.research.google.com/assets/colab-badge.svg\" alt=\"Open In Colab\"/></a>"
      ]
    },
    {
      "cell_type": "code",
      "metadata": {
        "id": "Gkty-FX3qVqc",
        "colab": {
          "base_uri": "https://localhost:8080/"
        },
        "outputId": "32e343bf-8511-4310-cdcb-0eac2cfd9ac2"
      },
      "source": [
        "###Exercício 1: \"Faça um Programa que leia três números inteiros, em seguida mostre o maior e o menor deles.\"\n",
        "primeiro = int(input('Primeiro numero: '))\n",
        "segundo  = int(input('Segundo numero : '))\n",
        "terceiro = int(input('Terceiro numero: '))\n",
        "\n",
        "########Achando o maior número########\n",
        "maior = primeiro\n",
        "\n",
        "if segundo > maior:\n",
        "  maior = segundo\n",
        "if terceiro > maior:\n",
        "  maior = terceiro\n",
        "\n",
        "print('Maior: ',maior)\n",
        "\n",
        "\n",
        "############Achando o menor número ###########\n",
        "menor = primeiro\n",
        "\n",
        "if segundo < menor:\n",
        "  menor = segundo\n",
        "if terceiro < menor:\n",
        "  menor = terceiro\n",
        "\n",
        "print('Menor: ',menor)"
      ],
      "execution_count": null,
      "outputs": [
        {
          "output_type": "stream",
          "text": [
            "Primeiro numero: 6\n",
            "Segundo numero : 8\n",
            "Terceiro numero: 9\n",
            "Maior:  9\n",
            "Menor:  6\n"
          ],
          "name": "stdout"
        }
      ]
    },
    {
      "cell_type": "code",
      "metadata": {
        "id": "8pgi5tSM0IgY",
        "colab": {
          "base_uri": "https://localhost:8080/"
        },
        "outputId": "e39b20b1-e091-42e7-a94d-811b35a3b6d8"
      },
      "source": [
        "#######Exercício 2 - Faça um programa que peça dois números e imprima o maior deles.######\n",
        "num1 = int(input('Digite um número: '))\n",
        "num2 = int(input('Digite outro número: '))\n",
        "if num1 > num2:\n",
        "  print('O número maior é', num1)\n",
        "else:\n",
        "  print('O número maior é ', num2)\n",
        "\n",
        "  "
      ],
      "execution_count": null,
      "outputs": [
        {
          "output_type": "stream",
          "text": [
            "Digite um número: 5\n",
            "Digite outro número: 8\n",
            "O número maior é  8\n"
          ],
          "name": "stdout"
        }
      ]
    },
    {
      "cell_type": "code",
      "metadata": {
        "colab": {
          "base_uri": "https://localhost:8080/"
        },
        "id": "1xmJqTdxUK2h",
        "outputId": "4612c83e-6872-49a4-bdf9-8ef6b80dfb6b"
      },
      "source": [
        "#####Exercício 3 - Faça um script que peça um valor e mostre na tela se o valor é positivo ou negativo####\n",
        "valor = int(input('Digite um número: '))\n",
        "if valor >= 0: \n",
        "  print('O número {} é positivo!'.format(valor))\n",
        "else:\n",
        "  print('O número {} é negativo!'.format(valor))"
      ],
      "execution_count": null,
      "outputs": [
        {
          "output_type": "stream",
          "text": [
            "Digite um número: -1\n",
            "O número -1 é negativo!\n"
          ],
          "name": "stdout"
        }
      ]
    },
    {
      "cell_type": "code",
      "metadata": {
        "colab": {
          "base_uri": "https://localhost:8080/"
        },
        "id": "P19xpL51V-ew",
        "outputId": "a6677089-156b-4df9-e2e5-8617b323a307"
      },
      "source": [
        "###Exercício 4 - Crie um programa que verifique se uma letra digitada é \"F\" ou \"M\". Conforme a letra escrever: F - Feminino, M - Masculino, Sexo Inválido.###\n",
        "letra = input('Digite uma letra: ')\n",
        "if letra.upper() == 'M':\n",
        "  print('Masculino')\n",
        "elif letra.upper() == 'F':\n",
        "  print('Feminino')\n",
        "else:\n",
        "  print('Sexo Inválido')"
      ],
      "execution_count": null,
      "outputs": [
        {
          "output_type": "stream",
          "text": [
            "Digite uma letra: c\n",
            "Sexo Inválido\n"
          ],
          "name": "stdout"
        }
      ]
    },
    {
      "cell_type": "code",
      "metadata": {
        "colab": {
          "base_uri": "https://localhost:8080/"
        },
        "id": "wUkDirhxZyQf",
        "outputId": "66a16119-8dea-4661-b383-2d9a26a579b7"
      },
      "source": [
        "##Exercício 5 - Crie um programa em Python que peça a nota do aluno, que deve ser um float entre 0.00 e 10.0\n",
        "#•\tSe a nota for menor que 6.0, deve exibir a nota F.\n",
        "#•\tSe a nota for de 6.0 até 7.0, deve exibir a nota D.\n",
        "#•\tSe a nota for entre 7.0 e 8.0, deve exibir a nota C.\n",
        "#•\tSe a nota for entre 8.0 e 9.0, deve exibir a nota B.\n",
        "#•\tPor fim, se for entre 9.0 e 10.0, deve exibir um belo de um A.\n",
        "\n",
        "nota = float(input('Digite a nota do Aluno: '))\n",
        "if nota >= 6 and nota <= 6.9:\n",
        "  print('Nota do aluno é D ')\n",
        "if nota >= 7 and nota <= 7.9:\n",
        "  print('Nota do Aluno é C ')\n",
        "if nota >= 8 and nota <= 8.9:\n",
        "  print('Nota do Aluno é B ')\n",
        "if nota >= 9 and nota <= 10:\n",
        "  print('Nota do Aluno é A ')\n",
        "else:\n",
        "  print('Nota do Aluno é F ')\n",
        "\n"
      ],
      "execution_count": null,
      "outputs": [
        {
          "output_type": "stream",
          "text": [
            "Digite a nota do Aluno: 5\n",
            "Nota do Aluno é F \n"
          ],
          "name": "stdout"
        }
      ]
    },
    {
      "cell_type": "code",
      "metadata": {
        "colab": {
          "base_uri": "https://localhost:8080/"
        },
        "id": "hdjS8hd2eX4W",
        "outputId": "badbcc84-7595-47f2-bbbe-ec0bba5c0d26"
      },
      "source": [
        "###Exercício 6 - Faça um Programa que verifique se uma letra digitada é vogal ou consoante.####\n",
        "letra = input('Digite uma letra: ')\n",
        "if letra.upper() == 'A':\n",
        "  print('Essa letra é uma Vogal')\n",
        "elif letra.upper() == 'E':\n",
        "  print('Essa letra é uma Vogal')\n",
        "elif letra.upper() == 'I':\n",
        "  print('Essa letra é uma Vogal')\n",
        "elif letra.upper() == 'O':\n",
        "  print('Essa letra é uma Vogal')\n",
        "elif letra.upper() == 'U':\n",
        "  print('Essa letra é uma Vogal')\n",
        "else:\n",
        "  print('Essa letra é uma Consoante.')"
      ],
      "execution_count": null,
      "outputs": [
        {
          "output_type": "stream",
          "text": [
            "Digite uma letra: m\n",
            "Essa letra é uma Consoante.\n"
          ],
          "name": "stdout"
        }
      ]
    },
    {
      "cell_type": "code",
      "metadata": {
        "colab": {
          "base_uri": "https://localhost:8080/"
        },
        "id": "xApuxO7IhGBE",
        "outputId": "7ca3c991-9350-483b-e997-5916674c3129"
      },
      "source": [
        "###Exercicio 6 Feito de outro jeito###\n",
        "letra = input('Digite uma letra: ')\n",
        "vogais = 'a,e,i,o,u'\n",
        "if letra in vogais or letra in vogais.upper() :\n",
        "  print('Essa letra é uma Vogal')\n",
        "else:\n",
        "  print('Essa letra é uma Consoante!')"
      ],
      "execution_count": null,
      "outputs": [
        {
          "output_type": "stream",
          "text": [
            "Digite uma letra: a\n",
            "Essa letra é uma Vogal\n"
          ],
          "name": "stdout"
        }
      ]
    },
    {
      "cell_type": "code",
      "metadata": {
        "colab": {
          "base_uri": "https://localhost:8080/"
        },
        "id": "Kfs-NuZ8jBeM",
        "outputId": "bd23dfb8-5d89-484b-a7ec-c604c0244a5c"
      },
      "source": [
        "#PROJETO 1\n",
        "#Resultado da primeira/segunda aula em Python:\n",
        "#•\tEscreva um programa que receba uma string digitada pelo usuário;\n",
        "#•\tCaso a string seja \"medieval\", exiba no console \"espada\";\n",
        "#•\tCaso contrário, se a string for \"futurista\", exiba no console \"sabre de luz\";\n",
        "#•\tCaso contrário, exiba no console \"Tente novamente\"\n",
        "\n",
        "palavra = input('Digite Medieval ou Futurista: ')\n",
        "if palavra.upper() == 'MEDIEVAL':\n",
        "  print('Espada')\n",
        "elif palavra.upper() == 'FUTURISTA':\n",
        "  print('Sabre de Luz')\n",
        "else:\n",
        "  print('ATAQUE NOVAMENTE!!!')\n",
        "\n"
      ],
      "execution_count": null,
      "outputs": [
        {
          "output_type": "stream",
          "text": [
            "Digite Medieval ou Futurista: nada\n",
            "ATAQUE NOVAMENTE!!!\n"
          ],
          "name": "stdout"
        }
      ]
    },
    {
      "cell_type": "code",
      "metadata": {
        "colab": {
          "base_uri": "https://localhost:8080/"
        },
        "id": "p-1sygltpqZD",
        "outputId": "1c00b3a1-07be-47ff-e104-a594447668d3"
      },
      "source": [
        "#Continuação do PROJETO 1\n",
        "#•\tEscreva um programa que receba um ataque de espada ou sabre digitada pelo usuário;\n",
        "#•\tCaso o ataque seja \"espada\", exiba no console \"VOCÊ AINDA NÃO MATOU O CHEFÃO\";\n",
        "#•\tCaso contrário, se o ataque for \"sabre\", exiba no console \"VOCÊ DERROTOU O CHEFÃO COM O SABRE DE LUZ\";\n",
        "#•\tCaso contrário, exiba no console \"ATAQUE NOVAMENTE\"\n",
        "\n",
        "ataque = input('Ataque Espada ou Sabre: ')\n",
        "if ataque.upper() == 'ESPADA':\n",
        "  print('VOCÊ AINDA NÃO MATOU O CHEFÃO!')\n",
        "elif ataque.upper() == 'SABRE':\n",
        "  print('VOCÊ DERROTOU O CHEFÃO COM O SABRE DE LUZ!!!')\n",
        "else:\n",
        "  print('ATAQUE NOVAMENTE!!')\n",
        "\n"
      ],
      "execution_count": null,
      "outputs": [
        {
          "output_type": "stream",
          "text": [
            "Ataque Espada ou Sabre: machado\n",
            "ATAQUE NOVAMENTE!!\n"
          ],
          "name": "stdout"
        }
      ]
    },
    {
      "cell_type": "code",
      "metadata": {
        "colab": {
          "base_uri": "https://localhost:8080/"
        },
        "id": "lH-GVUQE0jsD",
        "outputId": "0f499575-4e0d-40b2-cc6b-09c19890b235"
      },
      "source": [
        "#DESAFIO - As empresas @.com resolveram dar um aumento de salário aos seus colaboradores e lhe contrataram para desenvolver o programa que calculará os reajustes.\n",
        "\n",
        "#Faça um programa que recebe o salário de um colaborador e o reajuste segundo o seguinte critério, baseado no salário atual:\n",
        "#•\tsalários até R$ 280,00 (incluindo) : aumento de 20%\n",
        "#•\tsalários entre R$ 280,00 e R$ 700,00 : aumento de 15%\n",
        "#•\tsalários entre R$ 700,00 e R$ 1500,00 : aumento de 10%\n",
        "#•\tsalários de R$ 1500,00 em diante : aumento de 5%\n",
        "#Após o aumento ser realizado, informe na tela:\n",
        "#•\to salário antes do reajuste;\n",
        "#•\to percentual de aumento aplicado;\n",
        "#•\to valor do aumento;\n",
        "#•\to novo salário, após o aumento.\"\n",
        "\n",
        "salario = float(input('Informe seu salário: ').replace(',' , '.'))\n",
        "ajuste = 0\n",
        "if salario <= 280:\n",
        "  ajuste = 20\n",
        "elif salario <= 700:\n",
        "  ajuste = 15\n",
        "elif salario <= 1500:\n",
        "  ajuste = 10\n",
        "else:\n",
        "  ajuste = 5\n",
        "indice = ajuste/100 + 1\n",
        "print(f'Salario antes do reajuste : R${salario:.2f}\\nPercentual do aumento aplicado: {ajuste}%\\nValor do aumento: R${salario*(ajuste/100):.2f}\\nNovo Salario: R${indice * salario}')"
      ],
      "execution_count": 11,
      "outputs": [
        {
          "output_type": "stream",
          "text": [
            "Informe seu salário: 280\n",
            "Salario antes do reajuste : R$280.00\n",
            "Percentual do aumento aplicado: 20%\n",
            "Valor do aumento: R$56.00\n",
            "Novo Salario: R$336.0\n"
          ],
          "name": "stdout"
        }
      ]
    },
    {
      "cell_type": "code",
      "metadata": {
        "id": "w0Q37YaUl7co"
      },
      "source": [
        "saque = float(input(\"Digite o valor do saque(Minino R$10 e Máximo R$ 600):\"))\n",
        "if saque < 10:\n",
        "    print(\"Valor inválido \")\n",
        "elif saque > 600:\n",
        "  print(\"Valor inválido \")\n",
        "else:\n",
        "  cem = int(saque / 100)\n",
        "  saque = saque % 100\n",
        "  cinquenta = int(saque/50)\n",
        "  saque = saque % 50\n",
        "  dez = int(saque/10)\n",
        "  saque = saque % 10\n",
        "  cinco = int(saque/5)\n",
        "  saque = saque % 5\n",
        "  um = saque\n",
        "  print('Notas R$100,00 = ',cem)\n",
        "  print('Notas R$ 50,00 = ',cinquenta)\n",
        "  print('Notas R$ 10,00 = ',dez)\n",
        "  print('Notas R$  5,00 = ',cinco)\n",
        "  print('Notas R$  1,00 = ',um)\n"
      ],
      "execution_count": null,
      "outputs": []
    },
    {
      "cell_type": "code",
      "metadata": {
        "colab": {
          "base_uri": "https://localhost:8080/"
        },
        "id": "hokF6uyYrJ3Y",
        "outputId": "d60bd92a-0b6d-4245-ce57-0dbdd26586e9"
      },
      "source": [
        "valor = int(input('Digite um Valor:  R$'))\n",
        "if valor  >= 10  and valor <= 600:\n",
        "  notas_100 = valor // 100 # peguei o valor, e vi quantos notas 100 cabe nele( valor inteiro)\n",
        "  valor = valor % 100 # verifica o resto (se houver) da divisão de valor 100\n",
        "  \n",
        "  notas_50 = valor // 50\n",
        "  valor = valor % 50\n",
        "\n",
        "  notas_10 = valor // 10\n",
        "  valor = valor % 10\n",
        "\n",
        "  notas_5 = valor // 5\n",
        "  valor = valor % 5\n",
        "\n",
        "  notas_1 = valor\n",
        "  if  notas_100 > 0 :\n",
        "   print(f'Notas de 100: {notas_100}')\n",
        "  if  notas_50 > 0 :\n",
        "   print(f'Notas de 50: {notas_50}')\n",
        "  if  notas_10 > 0 :\n",
        "   print(f'Notas de 10: {notas_10}')\n",
        "  if  notas_5 > 0 :\n",
        "   print(f'Notas de 5: {notas_5}')\n",
        "  if  notas_1 > 0 :\n",
        "   print(f'Notas de 1: {notas_1}')\n",
        "else:\n",
        "  print('O valor é invalido')"
      ],
      "execution_count": null,
      "outputs": [
        {
          "output_type": "stream",
          "text": [
            "Digite um Valor:  R$355\n",
            "Notas de 100: 3\n",
            "Notas de 100: 1\n",
            "Notas de 100: 1\n"
          ],
          "name": "stdout"
        }
      ]
    }
  ]
}